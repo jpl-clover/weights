{
 "cells": [
  {
   "cell_type": "code",
   "execution_count": null,
   "metadata": {},
   "outputs": [],
   "source": [
    "import os\n",
    "\n",
    "# download the dataset if it doesn't exist:\n",
    "if not os.path.exists(\"msl-labeled-data-set-v2.1\"):\n",
    "    if not os.path.isfile(\"msl_v2.1.zip.zip\"):\n",
    "        !wget https://zenodo.org/record/4033453/files/msl-labeled-data-set-v2.1.zip?download=1 -O msl_v2.1.zip\n",
    "    !unzip -q msl_v2.1.zip -d .  # quiet unzip"
   ]
  },
  {
   "cell_type": "code",
   "execution_count": null,
   "metadata": {},
   "outputs": [],
   "source": [
    "import torch\n",
    "import torchvision\n",
    "from torchvision.datasets.folder import IMG_EXTENSIONS, default_loader\n",
    "\n",
    "\n",
    "class MSLDataset(torchvision.datasets.DatasetFolder):\n",
    "    def __init__(self, root, transform=None, split=\"train\"):\n",
    "        if split not in [\"train\", \"val\", \"test\"]:\n",
    "            raise ValueError(f\"dataset.split must be train, val, or test. Got {split}\")\n",
    "        self.split = split\n",
    "        if transform is None:\n",
    "            transform = torchvision.transforms.ToTensor()\n",
    "        super().__init__(root, default_loader, IMG_EXTENSIONS, transform=transform)\n",
    "        self.imgs = self.samples\n",
    "\n",
    "    def find_classes(self, root):\n",
    "        with open(os.path.join(root, \"class_map.csv\"), \"r\") as f:\n",
    "            class_to_idx = {\n",
    "                l.split(\",\")[1].strip(): int(l.split(\",\")[0]) for l in f.readlines()\n",
    "            }\n",
    "        return sorted(list(class_to_idx.keys())), class_to_idx\n",
    "\n",
    "    def make_dataset(self, root, class_to_idx, extensions, is_valid_file):\n",
    "        helper = lambda file, idx: (os.path.join(root, \"images\", file), int(idx))\n",
    "        with open(os.path.join(root, f\"{self.split}-set-v2.1.txt\"), \"r\") as f:\n",
    "            return [helper(*l.split(\" \")) for l in f.readlines()]\n",
    "\n",
    "\n",
    "device = torch.device(\"cuda\" if torch.cuda.is_available() else \"cpu\")\n",
    "model = torch.hub.load(\n",
    "    \"jpl-clover/weights:devel\",\n",
    "    \"resnet18_distilled_from_r101_1x_sk0_finetuned_on_100pctMSL\",\n",
    "    force_reload=True,\n",
    "    num_classes=19,\n",
    ")\n",
    "model = model.to(device)"
   ]
  },
  {
   "cell_type": "code",
   "execution_count": 14,
   "metadata": {},
   "outputs": [],
   "source": [
    "from tqdm.auto import tqdm\n",
    "\n",
    "ds = MSLDataset(\"msl-labeled-data-set-v2.1\", split=\"test\")\n",
    "accuracy = 0\n",
    "model.eval()\n",
    "with torch.no_grad():\n",
    "    progress_bar = tqdm(ds)\n",
    "    for img, label in progress_bar:\n",
    "        img = img.unsqueeze(0).to(device)\n",
    "        output = model(img)\n",
    "        accuracy += (output.argmax(1) == label).sum().item()\n",
    "        # add current accuracy to tqdm\n",
    "        progress_bar.set_postfix(accuracy=f\"{accuracy / len(ds):.3f}\")\n",
    "\n",
    "accuracy /= len(ds)\n",
    "print(f\"Final accuracy: {accuracy:.4f}\")"
   ]
  }
 ],
 "metadata": {
  "kernelspec": {
   "display_name": "python38",
   "language": "python",
   "name": "python3"
  },
  "language_info": {
   "codemirror_mode": {
    "name": "ipython",
    "version": 3
   },
   "file_extension": ".py",
   "mimetype": "text/x-python",
   "name": "python",
   "nbconvert_exporter": "python",
   "pygments_lexer": "ipython3",
   "version": "3.8.5"
  },
  "orig_nbformat": 4,
  "vscode": {
   "interpreter": {
    "hash": "779085bb85af7d4c061f2a4f58122018d58199ef5fd4266c6d7f0e07e9edf860"
   }
  }
 },
 "nbformat": 4,
 "nbformat_minor": 2
}
